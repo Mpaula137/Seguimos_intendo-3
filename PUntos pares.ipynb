{
 "cells": [
  {
   "attachments": {},
   "cell_type": "markdown",
   "metadata": {},
   "source": [
    "Punto 2:\n"
   ]
  },
  {
   "cell_type": "code",
   "execution_count": 5,
   "metadata": {},
   "outputs": [
    {
     "name": "stdout",
     "output_type": "stream",
     "text": [
      "Esta es la parte entera [3, 2, 4]\n",
      "Esta es la parte decimal [3, 2]\n"
     ]
    }
   ],
   "source": [
    "numero= float(input(\"Ingrese un numero flotante: \"))\n",
    "\n",
    "parte_entera=int(numero)#ysamos la funcion int() para obtener la parte entera\n",
    "parte_decimal= numero % 1 #Utilizamos el operador modulo para hallar la parte decimal\n",
    "\n",
    "Digitosparte_entera=[]# lista vacia para almacenar los digitos enteros\n",
    "Digitosparte_decimal=[]#lista vacia para almacenar los digitos decimales\n",
    "\n",
    "while parte_entera >0: #Esto quiere decir que mientras haya digitos para tomar\n",
    "    digito= parte_entera%10 #obtener el ultimo digito\n",
    "    Digitosparte_entera.append(digito)# agregar el digito a la lista\n",
    "    parte_entera //=10 #eliminar el ultimo digito de la parte entera\n",
    "Digitosparte_entera.reverse()#ivertir el orden\n",
    "\n",
    "while parte_decimal != 0: #MIentras haya digitos que tomar\n",
    "    digito= int(parte_decimal*10)# Esto para obtener el primer digito, El int convierte al digito en entero para la lista\n",
    "    Digitosparte_decimal.append(digito)#agregar el digito a la lista\n",
    "    parte_decimal= round ((parte_decimal*10) % 1, 2)  # eliminar el primer dígito de la parte decimal, redondeando a 2 decimales, por eso usamos la funcion count\n",
    "\n",
    "print(\"Esta es la parte entera\", Digitosparte_entera)\n",
    "print(\"Esta es la parte decimal\", Digitosparte_decimal)\n",
    "\n"
   ]
  },
  {
   "attachments": {},
   "cell_type": "markdown",
   "metadata": {},
   "source": [
    "Punto 4:"
   ]
  },
  {
   "cell_type": "code",
   "execution_count": null,
   "metadata": {},
   "outputs": [
    {
     "name": "stdout",
     "output_type": "stream",
     "text": [
      "Valor real: 0.8775825618903728\n",
      "Aproximación: 0.8775825621589781\n",
      "Error relativo: 3.060741767677924e-10\n"
     ]
    }
   ],
   "source": [
    "import math\n",
    "\n",
    "def aprox_coseno(x, n):\n",
    "    \"\"\"\n",
    "    Aproxima la función coseno alrededor de 0 para un valor dado x utilizando los\n",
    "    primeros n términos de la serie de Taylor.\n",
    "    \"\"\"\n",
    "    \n",
    "    # Calcula el valor exacto del coseno de x utilizando la función math.cos()\n",
    "    coseno_real = math.cos(x)\n",
    "    \n",
    "    # Inicializa el valor de la aproximación del coseno en 0\n",
    "    coseno_aprox = 0\n",
    "    \n",
    "    # Recorre los primeros n términos de la serie de Taylor\n",
    "    for i in range(n):\n",
    "        # Calcula el valor del coeficiente a_i de la serie de Taylor\n",
    "        a_i = (-1)**i / math.factorial(2*i)\n",
    "        \n",
    "        # Calcula el valor de x elevado a la potencia 2i\n",
    "        x_potencia = x**(2*i)\n",
    "        \n",
    "        # Calcula el término i-ésimo de la serie de Taylor\n",
    "        termino_i = a_i * x_potencia\n",
    "        \n",
    "        # Agrega el término i-ésimo a la aproximación del coseno\n",
    "        coseno_aprox += termino_i\n",
    "    \n",
    "    # Calcula el error relativo entre la aproximación y el valor real del coseno\n",
    "    error_relativo = abs((coseno_real - coseno_aprox) / coseno_real)\n",
    "    \n",
    "    # Imprime el valor real del coseno, la aproximación y el error relativo\n",
    "    print(f\"Valor real: {coseno_real}\")\n",
    "    print(f\"Aproximación: {coseno_aprox}\")\n",
    "    print(f\"Error relativo: {error_relativo}\")\n",
    "\n",
    "if __name__ == \"__main__\":\n",
    "    # Ejemplo de uso de la función aprox_coseno\n",
    "    x = 0.5\n",
    "    n = 5\n",
    "    aprox_coseno(x, n)\n"
   ]
  },
  {
   "attachments": {},
   "cell_type": "markdown",
   "metadata": {},
   "source": [
    "Punto 6:"
   ]
  },
  {
   "cell_type": "code",
   "execution_count": 23,
   "metadata": {},
   "outputs": [
    {
     "name": "stdout",
     "output_type": "stream",
     "text": [
      "['f', 'g', 'd', 'r', 'f']\n",
      "La lista presentada contiene elementos repetidos\n"
     ]
    }
   ],
   "source": [
    "def elementos_repetidos(lista): #Funcion para encontrar elementos repetidos\n",
    "    longitud = len(lista) # usamos un len para saber la longitud de nuestra lista\n",
    "    for i in range(longitud): #luego usamos un ciclo for para que recorra la longitud de la lista\n",
    "        for j in range(i+1, longitud):# usamos otro for para compara el elemnto actual con los otros elementos\n",
    "            if lista[i] == lista[j]:#compara los elementos\n",
    "                return \"La lista presentada contiene elementos repetidos\"\n",
    "    return \"La lista presentada no contiene elementos repetidos\"\n",
    "\n",
    "if __name__ == \"__main__\":  #Funcion principal\n",
    "   mi_lista = []\n",
    "   n = int(input(\"Ingrese la cantidad de elementos que desea agregar a la lista: \"))\n",
    "   for i in range(n):\n",
    "      elemento = input(\"Ingrese un elemento sin espacios: \")\n",
    "      mi_lista.append(elemento)\n",
    "print(mi_lista)\n",
    "print(elementos_repetidos(mi_lista))\n"
   ]
  },
  {
   "attachments": {},
   "cell_type": "markdown",
   "metadata": {},
   "source": [
    "Punto 8:"
   ]
  },
  {
   "cell_type": "code",
   "execution_count": 25,
   "metadata": {},
   "outputs": [
    {
     "name": "stdout",
     "output_type": "stream",
     "text": [
      "Esta es la lista 1: ['3', 'f', 'd', 's', 'd']\n",
      "\n",
      "Esta es la lista 2: ['f', 'd', 's', 'e', 'd']\n",
      "\n",
      "Los elementos de la lista 1 que no están en la lista 2 son: ['3']\n"
     ]
    }
   ],
   "source": [
    "lista1 = [] #creamos la primera lista\n",
    "n = int(input(\"¿Cuántos elementos quieres agregar a la lista 1? \")) #el usuario dice la cantidad de elementos que tendra la lista\n",
    "for i in range(n): #creamos un ciclo for para agragar elementos a a lista\n",
    "    elemento = input(\"Ingresa un elemento: \")\n",
    "    lista1.append(elemento)# agragamos los elementos\n",
    "\n",
    "\n",
    "lista2 = []# creamos la segunda lista\n",
    "n = int(input(\"¿Cuántos elementos quieres agregar a la lista 2? \"))\n",
    "for i in range(n):\n",
    "    elemento = input(\"Ingresa un elemento: \")\n",
    "    lista2.append(elemento)\n",
    "\n",
    "\n",
    "ElementosNoPresentes = [] #creamos la lista de los elementos que no se encuentran\n",
    "for elemento in lista1:#un ciclo for para recorrer los elemntos de la lista\n",
    "    if elemento not in lista2: #usamos un condicional para validar que no se encuentra en la lista 2\n",
    "        ElementosNoPresentes.append(elemento)# los agregamos a la lista\n",
    "\n",
    "print(\"Esta es la lista 1:\", lista1)\n",
    "print()\n",
    "print(\"Esta es la lista 2:\", lista2)\n",
    "print()\n",
    "print(\"Los elementos de la lista 1 que no están en la lista 2 son:\", ElementosNoPresentes)"
   ]
  },
  {
   "attachments": {},
   "cell_type": "markdown",
   "metadata": {},
   "source": [
    "Punto 10:\n"
   ]
  },
  {
   "cell_type": "code",
   "execution_count": 26,
   "metadata": {},
   "outputs": [
    {
     "name": "stdout",
     "output_type": "stream",
     "text": [
      "[[4, 3, 4], [3, 2, 3], [4, 3, 4]]\n",
      "La matriz no es magica\n"
     ]
    }
   ],
   "source": [
    "def matrizMagica(matriz): \n",
    "    sumaFila = sum(matriz[0]) #comprobacion n1, sumar la primera fila \n",
    "    n = len(matriz)\n",
    "\n",
    "    for i in range(1, n):\n",
    "        if sum(matriz[i]) != sumaFila:\n",
    "            return False #comprobacion n1, sumar la primera fila\n",
    "\n",
    "    for j in range(n): \n",
    "        sumaColumna = 0\n",
    "        for i in range(n):\n",
    "            sumaColumna += matriz[i][j]\n",
    "        if sumaColumna != sumaFila: # comprobacion n2, la suma de las columnas respecto a la suma de la fila\n",
    "            return False\n",
    "\n",
    "    sumaDiagonal = 0\n",
    "    for i in range(n):\n",
    "        sumaDiagonal += matriz[i][i]\n",
    "    if sumaDiagonal != sumaFila: # comprobacion n3, la suma de la diagonal respecto a las sumas anteriores\n",
    "        return False\n",
    "\n",
    "    sumaDiagonalDos = 0\n",
    "    for i in range(n):\n",
    "        sumaDiagonalDos += matriz[i][n-1-i]\n",
    "    if sumaDiagonalDos != sumaFila: #comprobacion n4, la suma de la segunda diagnonal respecto a las sumas anteriores\n",
    "        return False \n",
    "\n",
    "    return True # Si todas las sumas son iguales, tenemos nuestra matriz magica\n",
    "\n",
    "matriz = []\n",
    "filas = 3\n",
    "columnas = 3\n",
    "\n",
    "for i in range(filas): # Se solicitan los valores de cada celda de la matriz\n",
    "    fila = []\n",
    "    for j in range(columnas):\n",
    "        valor = int(input(\"digite los elementos ({},{}) de la matriz: \".format(i, j)))\n",
    "        fila.append(valor)\n",
    "    matriz.append(fila)\n",
    "\n",
    "print(matriz)\n",
    "\n",
    "if matrizMagica(matriz): # Se llama la funcion para evaluar las variables\n",
    "    print(\"La matriz es magica\")\n",
    "else:\n",
    "    print(\"La matriz no es magica\")"
   ]
  }
 ],
 "metadata": {
  "kernelspec": {
   "display_name": "Python 3",
   "language": "python",
   "name": "python3"
  },
  "language_info": {
   "codemirror_mode": {
    "name": "ipython",
    "version": 3
   },
   "file_extension": ".py",
   "mimetype": "text/x-python",
   "name": "python",
   "nbconvert_exporter": "python",
   "pygments_lexer": "ipython3",
   "version": "3.11.3"
  },
  "orig_nbformat": 4
 },
 "nbformat": 4,
 "nbformat_minor": 2
}
